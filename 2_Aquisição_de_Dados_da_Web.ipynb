{
  "nbformat": 4,
  "nbformat_minor": 0,
  "metadata": {
    "colab": {
      "name": "2 - Aquisição de Dados da Web",
      "version": "0.3.2",
      "provenance": [],
      "toc_visible": true,
      "include_colab_link": true
    },
    "language_info": {
      "codemirror_mode": "r",
      "file_extension": ".r",
      "mimetype": "text/x-r-source",
      "name": "R",
      "pygments_lexer": "r",
      "version": "3.3.1"
    },
    "kernelspec": {
      "display_name": "R",
      "language": "R",
      "name": "ir"
    }
  },
  "cells": [
    {
      "cell_type": "markdown",
      "metadata": {
        "id": "view-in-github",
        "colab_type": "text"
      },
      "source": [
        "<a href=\"https://colab.research.google.com/github/ctvidal/Text-Mining/blob/master/2_Aquisi%C3%A7%C3%A3o_de_Dados_da_Web.ipynb\" target=\"_parent\"><img src=\"https://colab.research.google.com/assets/colab-badge.svg\" alt=\"Open In Colab\"/></a>"
      ]
    },
    {
      "cell_type": "markdown",
      "metadata": {
        "id": "wn9t4aUDQH2z",
        "colab_type": "text"
      },
      "source": [
        "# Aquisição de Dados\n",
        "\n",
        "O primeiro processo da Mineração de Texto, é garantir que temos os dados necessários para análise. A mineração de texto é muito dinâmica e provavelmente temos que montar um **fluxo contínuo** de aquisição dos dados necessário. Neste notebook vamos exemplificar como recuperar dados de uma página HTML e estruturá-los."
      ]
    },
    {
      "cell_type": "markdown",
      "metadata": {
        "id": "UixQ-Y9VKjwy",
        "colab_type": "text"
      },
      "source": [
        "### Importando bibliotecas a serem usadas"
      ]
    },
    {
      "cell_type": "code",
      "metadata": {
        "id": "SvGJ9AF0OH45",
        "colab_type": "code",
        "outputId": "9d6db8f2-b4ec-4015-ea84-da9cafc2b130",
        "colab": {
          "base_uri": "https://localhost:8080/",
          "height": 52
        }
      },
      "source": [
        "install.packages('rvest')"
      ],
      "execution_count": 0,
      "outputs": [
        {
          "output_type": "stream",
          "text": [
            "Installing package into ‘/usr/local/lib/R/site-library’\n",
            "(as ‘lib’ is unspecified)\n"
          ],
          "name": "stderr"
        }
      ]
    },
    {
      "cell_type": "code",
      "metadata": {
        "id": "Unsb8k4MKWgb",
        "colab_type": "code",
        "colab": {}
      },
      "source": [
        "suppressMessages(suppressWarnings(library(rvest)))\n",
        "suppressMessages(suppressWarnings(library(dplyr)))\n",
        "suppressMessages(suppressWarnings(library('ggplot2')))"
      ],
      "execution_count": 0,
      "outputs": []
    },
    {
      "cell_type": "markdown",
      "metadata": {
        "id": "J2pa0m1z05Om",
        "colab_type": "text"
      },
      "source": [
        "### Download dos dados\n",
        "\n",
        "### 1) Escolha uma URL para fazer download dos dados"
      ]
    },
    {
      "cell_type": "code",
      "metadata": {
        "id": "Hq3wcLq-axpx",
        "colab_type": "code",
        "colab": {}
      },
      "source": [
        "#Specifying the url for desired website to be scraped\n",
        "url <- ''"
      ],
      "execution_count": 0,
      "outputs": []
    },
    {
      "cell_type": "code",
      "metadata": {
        "id": "Cnbxwzj6rESP",
        "colab_type": "code",
        "colab": {}
      },
      "source": [
        "#Reading the HTML code from the website\n",
        "webpage <- read_html(url)"
      ],
      "execution_count": 0,
      "outputs": []
    },
    {
      "cell_type": "markdown",
      "metadata": {
        "id": "DwNngnbNrT8k",
        "colab_type": "text"
      },
      "source": [
        "###  2) Escreva quais informações você gostaria de estruturar:"
      ]
    },
    {
      "cell_type": "markdown",
      "metadata": {
        "id": "LwwLw1OxwacO",
        "colab_type": "text"
      },
      "source": [
        "Escreva sua resposta aqui"
      ]
    },
    {
      "cell_type": "markdown",
      "metadata": {
        "id": "FHfHkw6cwlHE",
        "colab_type": "text"
      },
      "source": [
        "### 3) Escreva o código  para recuperar essas informações a partir da página especificada"
      ]
    },
    {
      "cell_type": "code",
      "metadata": {
        "id": "f_Tv9F8owqT0",
        "colab_type": "code",
        "colab": {}
      },
      "source": [
        "### Escreva seu código aqui"
      ],
      "execution_count": 0,
      "outputs": []
    },
    {
      "cell_type": "markdown",
      "metadata": {
        "colab_type": "text",
        "id": "BHBVVBv7wjfB"
      },
      "source": [
        "## Estruturando os dados\n",
        "\n",
        "#### 4) Coloque seus dados em um dataframe e salve em CSV para recuperarmos mais tarde"
      ]
    },
    {
      "cell_type": "code",
      "metadata": {
        "id": "9SBhnmGdu2oL",
        "colab_type": "code",
        "colab": {}
      },
      "source": [
        "# Escreva seu código aqui"
      ],
      "execution_count": 0,
      "outputs": []
    }
  ]
}