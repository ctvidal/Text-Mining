{
  "nbformat": 4,
  "nbformat_minor": 0,
  "metadata": {
    "colab": {
      "name": "2 - Aquisição de Dados da Web",
      "version": "0.3.2",
      "provenance": [],
      "collapsed_sections": [],
      "toc_visible": true,
      "include_colab_link": true
    },
    "language_info": {
      "codemirror_mode": "r",
      "file_extension": ".r",
      "mimetype": "text/x-r-source",
      "name": "R",
      "pygments_lexer": "r",
      "version": "3.3.1"
    },
    "kernelspec": {
      "display_name": "R",
      "language": "R",
      "name": "ir"
    },
    "accelerator": "GPU"
  },
  "cells": [
    {
      "cell_type": "markdown",
      "metadata": {
        "id": "view-in-github",
        "colab_type": "text"
      },
      "source": [
        "<a href=\"https://colab.research.google.com/github/ctvidal/Text-Mining/blob/master/2_Aquisi%C3%A7%C3%A3o_de_Dados_da_Web.ipynb\" target=\"_parent\"><img src=\"https://colab.research.google.com/assets/colab-badge.svg\" alt=\"Open In Colab\"/></a>"
      ]
    },
    {
      "cell_type": "markdown",
      "metadata": {
        "id": "wn9t4aUDQH2z",
        "colab_type": "text"
      },
      "source": [
        "# Aquisição de Dados\n",
        "\n",
        "O primeiro processo da Mineração de Texto, é garantir que temos os dados necessários para análise. A mineração de texto é muito dinâmica e provavelmente temos que montar um **fluxo contínuo** de aquisição dos dados necessário. Neste notebook vamos exemplificar como recuperar dados de uma página HTML e estruturá-los."
      ]
    },
    {
      "cell_type": "markdown",
      "metadata": {
        "id": "UixQ-Y9VKjwy",
        "colab_type": "text"
      },
      "source": [
        "### Importando bibliotecas a serem usadas"
      ]
    },
    {
      "cell_type": "code",
      "metadata": {
        "id": "SvGJ9AF0OH45",
        "colab_type": "code",
        "outputId": "c89db4f2-5281-4a57-8e9a-24a3c01e45c3",
        "colab": {
          "base_uri": "https://localhost:8080/",
          "height": 127
        }
      },
      "source": [
        "install.packages('rvest')\n",
        "install.packages('dplyr')\n",
        "install.packages('stringr')"
      ],
      "execution_count": 2,
      "outputs": [
        {
          "output_type": "stream",
          "text": [
            "Installing package into ‘/usr/local/lib/R/site-library’\n",
            "(as ‘lib’ is unspecified)\n",
            "Installing package into ‘/usr/local/lib/R/site-library’\n",
            "(as ‘lib’ is unspecified)\n",
            "Installing package into ‘/usr/local/lib/R/site-library’\n",
            "(as ‘lib’ is unspecified)\n"
          ],
          "name": "stderr"
        }
      ]
    },
    {
      "cell_type": "code",
      "metadata": {
        "id": "Unsb8k4MKWgb",
        "colab_type": "code",
        "colab": {}
      },
      "source": [
        "suppressMessages(suppressWarnings(library(rvest)))\n",
        "suppressMessages(suppressWarnings(library(dplyr)))\n",
        "suppressMessages(suppressWarnings(library(stringr)))"
      ],
      "execution_count": 0,
      "outputs": []
    },
    {
      "cell_type": "markdown",
      "metadata": {
        "id": "J2pa0m1z05Om",
        "colab_type": "text"
      },
      "source": [
        "### Download dos dados\n",
        "\n",
        "### 1) Escolha uma URL para fazer download dos dados"
      ]
    },
    {
      "cell_type": "code",
      "metadata": {
        "id": "Hq3wcLq-axpx",
        "colab_type": "code",
        "colab": {}
      },
      "source": [
        "#URL contendo as listagem dos produtos do Supermercado Guanabara\n",
        "url <- \"https://www.supermercadosguanabara.com.br/produtos\""
      ],
      "execution_count": 0,
      "outputs": []
    },
    {
      "cell_type": "code",
      "metadata": {
        "id": "Cnbxwzj6rESP",
        "colab_type": "code",
        "colab": {}
      },
      "source": [
        "webpage <- read_html(url)\n"
      ],
      "execution_count": 0,
      "outputs": []
    },
    {
      "cell_type": "markdown",
      "metadata": {
        "id": "DwNngnbNrT8k",
        "colab_type": "text"
      },
      "source": [
        "###  2) Escreva quais informações você gostaria de estruturar:"
      ]
    },
    {
      "cell_type": "markdown",
      "metadata": {
        "id": "LwwLw1OxwacO",
        "colab_type": "text"
      },
      "source": [
        "As promoções do Supermercado Guanabara se encontram divididas em grupos de alimentos/produtos e em cada grupo é fornecido a listagem paginada dos nomes das mercadorias e seus respectivos preços.\n",
        "\n",
        "O objetivo do código é extrair toda a listagem desses produtos, com os preços além de informações de validade da promoção dos itens.\n",
        "\n",
        "Este procedimento pode ser feito para vários supermercados de forma a obtermos ao final uma base de dados que posibilite alimentar sistemas de busca de melhores preços.\n"
      ]
    },
    {
      "cell_type": "markdown",
      "metadata": {
        "id": "FHfHkw6cwlHE",
        "colab_type": "text"
      },
      "source": [
        "### 3) Escreva o código  para recuperar essas informações a partir da página especificada"
      ]
    },
    {
      "cell_type": "code",
      "metadata": {
        "id": "ScavGI7jX6l4",
        "colab_type": "code",
        "colab": {
          "base_uri": "https://localhost:8080/",
          "height": 306
        },
        "outputId": "8c1819c0-4295-4d65-b0f1-dd933c14fa5a"
      },
      "source": [
        "#Deteminando as páginas dos grupos de produtos para varredura\n",
        "paginas <- html_nodes(webpage,'.item') %>% html_attr(\"href\") \n",
        "paginas <- paginas[!is.na(paginas)]\n",
        "\n",
        "paginas"
      ],
      "execution_count": 13,
      "outputs": [
        {
          "output_type": "display_data",
          "data": {
            "text/plain": [
              " [1] \"/produtos/42\"  \"/produtos/82\"  \"/produtos/32\"  \"/produtos/152\"\n",
              " [5] \"/produtos/182\" \"/produtos/2\"   \"/produtos/92\"  \"/produtos/52\" \n",
              " [9] \"/produtos/62\"  \"/produtos/112\" \"/produtos/102\" \"/produtos/22\" \n",
              "[13] \"/produtos/12\"  \"/produtos/132\" \"/produtos/72\" "
            ],
            "text/latex": "\\begin{enumerate*}\n\\item '/produtos/42'\n\\item '/produtos/82'\n\\item '/produtos/32'\n\\item '/produtos/152'\n\\item '/produtos/182'\n\\item '/produtos/2'\n\\item '/produtos/92'\n\\item '/produtos/52'\n\\item '/produtos/62'\n\\item '/produtos/112'\n\\item '/produtos/102'\n\\item '/produtos/22'\n\\item '/produtos/12'\n\\item '/produtos/132'\n\\item '/produtos/72'\n\\end{enumerate*}\n",
            "text/markdown": "1. '/produtos/42'\n2. '/produtos/82'\n3. '/produtos/32'\n4. '/produtos/152'\n5. '/produtos/182'\n6. '/produtos/2'\n7. '/produtos/92'\n8. '/produtos/52'\n9. '/produtos/62'\n10. '/produtos/112'\n11. '/produtos/102'\n12. '/produtos/22'\n13. '/produtos/12'\n14. '/produtos/132'\n15. '/produtos/72'\n\n\n",
            "text/html": [
              "<ol class=list-inline>\n",
              "\t<li>'/produtos/42'</li>\n",
              "\t<li>'/produtos/82'</li>\n",
              "\t<li>'/produtos/32'</li>\n",
              "\t<li>'/produtos/152'</li>\n",
              "\t<li>'/produtos/182'</li>\n",
              "\t<li>'/produtos/2'</li>\n",
              "\t<li>'/produtos/92'</li>\n",
              "\t<li>'/produtos/52'</li>\n",
              "\t<li>'/produtos/62'</li>\n",
              "\t<li>'/produtos/112'</li>\n",
              "\t<li>'/produtos/102'</li>\n",
              "\t<li>'/produtos/22'</li>\n",
              "\t<li>'/produtos/12'</li>\n",
              "\t<li>'/produtos/132'</li>\n",
              "\t<li>'/produtos/72'</li>\n",
              "</ol>\n"
            ]
          },
          "metadata": {
            "tags": []
          }
        }
      ]
    },
    {
      "cell_type": "code",
      "metadata": {
        "id": "f_Tv9F8owqT0",
        "colab_type": "code",
        "colab": {
          "base_uri": "https://localhost:8080/",
          "height": 311
        },
        "outputId": "a9a0fde4-582f-4255-9c6b-774a237289b5"
      },
      "source": [
        "#Varrendo cada página e extraindo as informações dos produtos\n",
        "\n",
        "data <- vector(\"list\", length = 1)\n",
        "k=1\n",
        "\n",
        "for(i in 1:length(paginas)) {\n",
        "  \n",
        "  url <- paste0('https://www.supermercadosguanabara.com.br',paginas[i])\n",
        "  webpage <- read_html(url)\n",
        "  \n",
        "  rank_data_html <- html_nodes(webpage,'.validate')\n",
        "  \n",
        "  rank_data <- html_text(rank_data_html,trim = TRUE) %>% str_split(pattern = ' ') %>% unlist()\n",
        "  \n",
        "  promo_fim <- as.Date(rank_data[2],\"%d/%m/%Y\")\n",
        "  \n",
        "  nome_prod <- html_nodes(webpage,'.name') %>% html_text(trim = TRUE) %>% unlist() \n",
        "  nome_prod <- nome_prod[length(paginas)+1:length(nome_prod)]\n",
        "  nome_prod <- nome_prod[!is.na(nome_prod)]\n",
        "  \n",
        "  preco_prod <- html_nodes(webpage,'.price') %>% html_text(trim = TRUE) %>% \n",
        "    str_replace_all(pattern = \" \",replacement = \"\") %>%\n",
        "    str_replace_all(pattern = \"cada\",replacement = \"\") %>% \n",
        "    str_replace_all(pattern = \"[R$]\",replacement = \"\") %>% unlist\n",
        "  \n",
        "  if (length(nome_prod)>0) {\n",
        "    preco_prod <- as.numeric(str_replace(preco_prod,\",\",\".\"))\n",
        "    data <- rbind(data, data.frame(\"Validade Promoção\"=promo_fim,\"Produto\"=nome_prod,\"Preço\"=preco_prod))\n",
        "  }\n",
        "}\n",
        "\n",
        "summary(data)"
      ],
      "execution_count": 37,
      "outputs": [
        {
          "output_type": "display_data",
          "data": {
            "text/plain": [
              " Validade.Promoção                                                 Produto   \n",
              " Min.   :2019-06-15   Hastes Flexíveis Cotonetes Johnson e Johnson 75un:  2  \n",
              " 1st Qu.:2019-06-15   Alcatra Bovina a Vácuo (Peça) Kg                 :  1  \n",
              " Median :2019-06-15   Contra Filé Friboi PEÇA Kg                       :  1  \n",
              " Mean   :2019-06-15   Coraçao da Alcatra Maturatta Friboi PEÇA Kg      :  1  \n",
              " 3rd Qu.:2019-06-15   Coxa de Frango Sadia Bandeja Kg                  :  1  \n",
              " Max.   :2019-06-15   Filé de Coxa e Sobrecoxa Sadia Bandeja Kg        :  1  \n",
              "                      (Other)                                          :241  \n",
              "     Preço       \n",
              " Min.   : 0.790  \n",
              " 1st Qu.: 2.990  \n",
              " Median : 6.480  \n",
              " Mean   : 8.279  \n",
              " 3rd Qu.: 9.990  \n",
              " Max.   :77.900  \n",
              "                 "
            ]
          },
          "metadata": {
            "tags": []
          }
        }
      ]
    },
    {
      "cell_type": "markdown",
      "metadata": {
        "colab_type": "text",
        "id": "BHBVVBv7wjfB"
      },
      "source": [
        "## Estruturando os dados\n",
        "\n",
        "#### 4) Coloque seus dados em um dataframe e salve em CSV para recuperarmos mais tarde"
      ]
    },
    {
      "cell_type": "code",
      "metadata": {
        "id": "9SBhnmGdu2oL",
        "colab_type": "code",
        "colab": {
          "base_uri": "https://localhost:8080/",
          "height": 207
        },
        "outputId": "a9629cf4-915c-4b11-c4b9-6bccf1a13c87"
      },
      "source": [
        "base_final <- data.frame(data)\n",
        "\n",
        "head(base_final)"
      ],
      "execution_count": 41,
      "outputs": [
        {
          "output_type": "display_data",
          "data": {
            "text/plain": [
              "  Validade.Promoção Produto                                    Preço\n",
              "1 2019-06-15        Coxa de Frango Sadia Bandeja Kg             7.98\n",
              "2 2019-06-15        Filezinho de Peito de Frango Sadia Bandeja 13.98\n",
              "3 2019-06-15        Filezinho de Peito de Frango Seara Band Kg 13.98\n",
              "4 2019-06-15        Filé de Coxa e Sobrecoxa Sadia Bandeja Kg   9.98\n",
              "5 2019-06-15        Frango a Passarinho Seara Pacote kg         7.95\n",
              "6 2019-06-15        Linguiça Suína Alegra Kg                    9.98"
            ],
            "text/latex": "A data.frame: 6 × 3\n\\begin{tabular}{r|lll}\n Validade.Promoção & Produto & Preço\\\\\n <date> & <fct> & <dbl>\\\\\n\\hline\n\t 2019-06-15 & Coxa de Frango Sadia Bandeja Kg            &  7.98\\\\\n\t 2019-06-15 & Filezinho de Peito de Frango Sadia Bandeja & 13.98\\\\\n\t 2019-06-15 & Filezinho de Peito de Frango Seara Band Kg & 13.98\\\\\n\t 2019-06-15 & Filé de Coxa e Sobrecoxa Sadia Bandeja Kg  &  9.98\\\\\n\t 2019-06-15 & Frango a Passarinho Seara Pacote kg        &  7.95\\\\\n\t 2019-06-15 & Linguiça Suína Alegra Kg                   &  9.98\\\\\n\\end{tabular}\n",
            "text/markdown": "\nA data.frame: 6 × 3\n\n| Validade.Promoção &lt;date&gt; | Produto &lt;fct&gt; | Preço &lt;dbl&gt; |\n|---|---|---|\n| 2019-06-15 | Coxa de Frango Sadia Bandeja Kg            |  7.98 |\n| 2019-06-15 | Filezinho de Peito de Frango Sadia Bandeja | 13.98 |\n| 2019-06-15 | Filezinho de Peito de Frango Seara Band Kg | 13.98 |\n| 2019-06-15 | Filé de Coxa e Sobrecoxa Sadia Bandeja Kg  |  9.98 |\n| 2019-06-15 | Frango a Passarinho Seara Pacote kg        |  7.95 |\n| 2019-06-15 | Linguiça Suína Alegra Kg                   |  9.98 |\n\n",
            "text/html": [
              "<table>\n",
              "<caption>A data.frame: 6 × 3</caption>\n",
              "<thead>\n",
              "\t<tr><th scope=col>Validade.Promoção</th><th scope=col>Produto</th><th scope=col>Preço</th></tr>\n",
              "\t<tr><th scope=col>&lt;date&gt;</th><th scope=col>&lt;fct&gt;</th><th scope=col>&lt;dbl&gt;</th></tr>\n",
              "</thead>\n",
              "<tbody>\n",
              "\t<tr><td>2019-06-15</td><td>Coxa de Frango Sadia Bandeja Kg           </td><td> 7.98</td></tr>\n",
              "\t<tr><td>2019-06-15</td><td>Filezinho de Peito de Frango Sadia Bandeja</td><td>13.98</td></tr>\n",
              "\t<tr><td>2019-06-15</td><td>Filezinho de Peito de Frango Seara Band Kg</td><td>13.98</td></tr>\n",
              "\t<tr><td>2019-06-15</td><td>Filé de Coxa e Sobrecoxa Sadia Bandeja Kg </td><td> 9.98</td></tr>\n",
              "\t<tr><td>2019-06-15</td><td>Frango a Passarinho Seara Pacote kg       </td><td> 7.95</td></tr>\n",
              "\t<tr><td>2019-06-15</td><td>Linguiça Suína Alegra Kg                  </td><td> 9.98</td></tr>\n",
              "</tbody>\n",
              "</table>\n"
            ]
          },
          "metadata": {
            "tags": []
          }
        }
      ]
    },
    {
      "cell_type": "code",
      "metadata": {
        "id": "rQdlKPxGYriN",
        "colab_type": "code",
        "colab": {}
      },
      "source": [
        "write.csv(base_final, \"ProdutosxPreços_GUANABARA.csv\")"
      ],
      "execution_count": 0,
      "outputs": []
    }
  ]
}