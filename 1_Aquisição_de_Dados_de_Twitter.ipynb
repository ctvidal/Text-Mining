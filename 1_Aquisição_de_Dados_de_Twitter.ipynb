{
  "nbformat": 4,
  "nbformat_minor": 0,
  "metadata": {
    "colab": {
      "name": "1 - Aquisição de Dados de Twitter",
      "version": "0.3.2",
      "provenance": [],
      "toc_visible": true
    },
    "language_info": {
      "codemirror_mode": "r",
      "file_extension": ".r",
      "mimetype": "text/x-r-source",
      "name": "R",
      "pygments_lexer": "r",
      "version": "3.3.1"
    },
    "kernelspec": {
      "display_name": "R",
      "language": "R",
      "name": "ir"
    }
  },
  "cells": [
    {
      "cell_type": "markdown",
      "metadata": {
        "id": "wn9t4aUDQH2z",
        "colab_type": "text"
      },
      "source": [
        "# Aquisição de Dados\n",
        "\n",
        "O primeiro processo da Mineração de Texto, é garantir que temos os dados necessários para análise. A mineração de texto é muito dinâmica e provavelmente temos que montar um **fluxo contínuo** de aquisição dos dados necessário. Neste notebook vamos exemplificar como recuperar dados de Tweets."
      ]
    },
    {
      "cell_type": "markdown",
      "metadata": {
        "id": "UixQ-Y9VKjwy",
        "colab_type": "text"
      },
      "source": [
        "### Importando bibliotecas a serem usadas"
      ]
    },
    {
      "cell_type": "code",
      "metadata": {
        "id": "SvGJ9AF0OH45",
        "colab_type": "code",
        "outputId": "e0103d04-04fc-4e8c-a447-b4662730e4d9",
        "colab": {
          "base_uri": "https://localhost:8080/",
          "height": 52
        }
      },
      "source": [
        "install.packages(\"rtweet\")"
      ],
      "execution_count": 0,
      "outputs": [
        {
          "output_type": "stream",
          "text": [
            "Installing package into ‘/usr/local/lib/R/site-library’\n",
            "(as ‘lib’ is unspecified)\n"
          ],
          "name": "stderr"
        }
      ]
    },
    {
      "cell_type": "code",
      "metadata": {
        "id": "Unsb8k4MKWgb",
        "colab_type": "code",
        "colab": {}
      },
      "source": [
        "suppressMessages(suppressWarnings(library(rtweet)))\n",
        "suppressMessages(suppressWarnings(library(dplyr)))"
      ],
      "execution_count": 0,
      "outputs": []
    },
    {
      "cell_type": "markdown",
      "metadata": {
        "id": "me356USlWBlT",
        "colab_type": "text"
      },
      "source": [
        "### Pedindo autorização"
      ]
    },
    {
      "cell_type": "code",
      "metadata": {
        "id": "xbdkk5TeWvhx",
        "colab_type": "code",
        "colab": {}
      },
      "source": [
        "consumer_key <- \"\"\n",
        "consumer_secret <-\"\"\n",
        "access_token <- \"\"\n",
        "access_secret <- \"\""
      ],
      "execution_count": 0,
      "outputs": []
    },
    {
      "cell_type": "code",
      "metadata": {
        "id": "imug0FQIWuc0",
        "colab_type": "code",
        "colab": {}
      },
      "source": [
        "## authenticate via access token\n",
        "token <- create_token(\n",
        "  app = \"FGV MBA\",\n",
        "  consumer_key = consumer_key,\n",
        "  consumer_secret = consumer_secret,\n",
        "  access_token = access_token,\n",
        "  access_secret = access_secret)"
      ],
      "execution_count": 0,
      "outputs": []
    },
    {
      "cell_type": "code",
      "metadata": {
        "id": "HzGp5zgabby3",
        "colab_type": "code",
        "outputId": "48898f01-f855-4998-fcc1-14e7588a6297",
        "colab": {
          "base_uri": "https://localhost:8080/",
          "height": 191
        }
      },
      "source": [
        "token"
      ],
      "execution_count": 0,
      "outputs": [
        {
          "output_type": "display_data",
          "data": {
            "text/plain": [
              "<Token>\n",
              "<oauth_endpoint>\n",
              " request:   https://api.twitter.com/oauth/request_token\n",
              " authorize: https://api.twitter.com/oauth/authenticate\n",
              " access:    https://api.twitter.com/oauth/access_token\n",
              "<oauth_app> FGV MBA\n",
              "  key:    ZZEano8Nn9W4UVJaHiaV6cRzO\n",
              "  secret: <hidden>\n",
              "<credentials> oauth_token, oauth_token_secret\n",
              "---"
            ]
          },
          "metadata": {
            "tags": []
          }
        }
      ]
    },
    {
      "cell_type": "markdown",
      "metadata": {
        "id": "J2pa0m1z05Om",
        "colab_type": "text"
      },
      "source": [
        "### Download dos dados\n",
        "Veja o que esse biblioteca pode fazer em: https://rtweet.info/\n",
        "\n",
        "Verifique quais outras funções existem na biblioteca. Recupere trends do Brasil, do Rio de Janeiro, recupere tweets procurando por hashtags, etc\n",
        "\n",
        "https://rtweet.info/reference/index.html\n",
        "\n",
        "## 1) Recupere tweets do seu interesse. Pode ser trends, uma hashtag específica ou até mesmo os tweets de um usuário"
      ]
    },
    {
      "cell_type": "code",
      "metadata": {
        "id": "auNA4OZiZCgO",
        "colab_type": "code",
        "colab": {}
      },
      "source": [
        "### Escreva o código aqui"
      ],
      "execution_count": 0,
      "outputs": []
    },
    {
      "cell_type": "markdown",
      "metadata": {
        "id": "K9ETcwivjH7Y",
        "colab_type": "text"
      },
      "source": [
        "## 2) Salvando nossos tweets para mais tarde\n",
        "Salve seus tweets para explorarmos mais depois"
      ]
    },
    {
      "cell_type": "code",
      "metadata": {
        "id": "Hvmj_zI-jHFK",
        "colab_type": "code",
        "colab": {}
      },
      "source": [
        "### Escreva o código aqui"
      ],
      "execution_count": 0,
      "outputs": []
    }
  ]
}